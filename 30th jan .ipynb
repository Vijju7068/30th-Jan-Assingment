{
 "cells": [
  {
   "cell_type": "markdown",
   "id": "056562db-bdb4-4b64-9d06-90cf1a26d88c",
   "metadata": {},
   "source": [
    "# 1. Write a program to accept percentage from the user and display the grade according to the following \n",
    "# criteria: \n",
    "# Marks \n",
    "# Grade \n",
    "# >90 \n",
    "# A \n",
    "# >80 and <=90 \n",
    "# B \n",
    "# >=60 and <=80 \n",
    "# C \n",
    "# below 60 \n",
    "# D \n"
   ]
  },
  {
   "cell_type": "code",
   "execution_count": 1,
   "id": "46b98373-a536-49b3-8bad-cf54bbf4ac1f",
   "metadata": {},
   "outputs": [
    {
     "name": "stdin",
     "output_type": "stream",
     "text": [
      "Enter the %age:  10\n"
     ]
    },
    {
     "name": "stdout",
     "output_type": "stream",
     "text": [
      "D\n"
     ]
    }
   ],
   "source": [
    "p_age = int(input(\"Enter the %age: \"))\n",
    "\n",
    "if p_age >90:\n",
    "    grade = \"A\"\n",
    "elif p_age >80 and p_age <=90:\n",
    "    grade = \"B\"\n",
    "elif p_age >=60 and p_age <=80:\n",
    "    grade = \"C\"\n",
    "else:\n",
    "    grade = \"D\"\n",
    "    \n",
    "    \n",
    "print(grade)"
   ]
  },
  {
   "cell_type": "markdown",
   "id": "532d20e4-011f-4bd7-85b7-134af2b2bfbb",
   "metadata": {},
   "source": [
    "# 2. Write a program to accept the cost price of a bike and display the road tax to be paid according to the \n",
    "# following criteria: \n",
    "# Tax \n",
    "# 15% \n",
    "# 10% \n",
    "# 5% \n",
    "# Cost Price(in Rs) \n",
    "# >100000 \n",
    "# 5 \n",
    "# 50000 and <= 100000 \n",
    "# <= 50000 \n"
   ]
  },
  {
   "cell_type": "code",
   "execution_count": 2,
   "id": "5609aa01-20db-4514-9c0e-d0a0441eed36",
   "metadata": {},
   "outputs": [
    {
     "name": "stdin",
     "output_type": "stream",
     "text": [
      "Enter your amount : 1000\n"
     ]
    },
    {
     "name": "stdout",
     "output_type": "stream",
     "text": [
      "5%\n"
     ]
    }
   ],
   "source": [
    "amount=  int(input(\"Enter your amount :\"))\n",
    "\n",
    "if amount >100000:\n",
    "    tax = \"15%\"\n",
    "elif amount >500000 and amount <=1000000:\n",
    "    tax = \"10%\"\n",
    "else:\n",
    "    tax = \"5%\"\n",
    "    \n",
    "    \n",
    "print(tax)"
   ]
  },
  {
   "cell_type": "markdown",
   "id": "4d47803a-950d-43e4-8c9a-6e1a1fee3280",
   "metadata": {},
   "source": [
    "# 3. Accept any city from the user and display monuments of that city. \n",
    "# City Monument \n",
    "# Delhi   Red Fort \n",
    "# Agra    Taj Mahal \n",
    "# Jaipur   Jal Mahal\n",
    " \n",
    " "
   ]
  },
  {
   "cell_type": "code",
   "execution_count": 4,
   "id": "bf299875-ef82-4a27-8d58-56837e75abf5",
   "metadata": {},
   "outputs": [
    {
     "name": "stdin",
     "output_type": "stream",
     "text": [
      "Enter you monument :  Jai Mahal\n"
     ]
    },
    {
     "name": "stdout",
     "output_type": "stream",
     "text": [
      "Jaipur\n"
     ]
    }
   ],
   "source": [
    "monum = str(input(\"Enter you monument : \"))\n",
    "\n",
    "if monum == \"Red fort\":\n",
    "    city = \"Delhi\"\n",
    "elif monum == \"Taj Mahal\":\n",
    "    city = \"Agra\"\n",
    "elif monum == \"Jai Mahal\":\n",
    "    city = \"Jaipur\"\n",
    "      \n",
    "        \n",
    "        \n",
    "print(city)\n"
   ]
  },
  {
   "cell_type": "markdown",
   "id": "ad0a6e67-7241-4f70-b29e-b681233b7c77",
   "metadata": {},
   "source": [
    "# 4. Check how many times a given number can be divided by 3 before it is less than or equal to 10. \n"
   ]
  },
  {
   "cell_type": "markdown",
   "id": "d7a3e44b-686f-460b-a1c6-0c9d1f054228",
   "metadata": {},
   "source": [
    "\n",
    "num = int(input(\"Enter your number :\"))\n",
    "\n",
    "count = 0  \n",
    "\n",
    "while num > 10:  \n",
    "    num = num / 3   \n",
    "    if num > 10: \n",
    "        count = count +  1  \n",
    "\n",
    "print( count)"
   ]
  },
  {
   "cell_type": "markdown",
   "id": "59fc337b-356a-4fdc-8976-23f0448e0af5",
   "metadata": {},
   "source": []
  },
  {
   "cell_type": "markdown",
   "id": "ae16b860-9eba-4669-b2ec-d85099a62ee6",
   "metadata": {},
   "source": [
    "# 5. Why and When to Use while Loop in Python give a detailed description with example \n"
   ]
  },
  {
   "cell_type": "code",
   "execution_count": null,
   "id": "cb786538-51d5-4897-b346-1c587cfd1325",
   "metadata": {},
   "outputs": [],
   "source": [
    "# The while loop in Python is a control flow statement that allows us to execute a block of code repeatedly as long as a certain condition is true.\n",
    "# We use the while loop when we need to repeat a set of statements until a specific condition is met. The syntax of a while loop in \n",
    "\n",
    "\n",
    "\n",
    "i = 1  \n",
    "\n",
    "while i <= 10:  \n",
    "    if i % 2 == 0:  \n",
    "        print(i)  \n",
    "    i += 1  \n",
    "\n",
    "print(\"Done!\")\n"
   ]
  },
  {
   "cell_type": "markdown",
   "id": "465069f4-3db9-4ab6-817e-a489a854aa6e",
   "metadata": {},
   "source": [
    "# 7. Reverse a while loop to display numbers from 10 to 1. \n"
   ]
  },
  {
   "cell_type": "code",
   "execution_count": null,
   "id": "78048e08-c70e-4bc1-af37-33b06df27ac6",
   "metadata": {},
   "outputs": [],
   "source": [
    "i = 10\n",
    "while i >= 1:\n",
    "    print(i)\n",
    "    i -= 1\n"
   ]
  },
  {
   "cell_type": "code",
   "execution_count": null,
   "id": "61e93495-4cc3-4c01-a9c6-8c6bed496876",
   "metadata": {},
   "outputs": [],
   "source": []
  }
 ],
 "metadata": {
  "kernelspec": {
   "display_name": "Python 3 (ipykernel)",
   "language": "python",
   "name": "python3"
  },
  "language_info": {
   "codemirror_mode": {
    "name": "ipython",
    "version": 3
   },
   "file_extension": ".py",
   "mimetype": "text/x-python",
   "name": "python",
   "nbconvert_exporter": "python",
   "pygments_lexer": "ipython3",
   "version": "3.10.8"
  }
 },
 "nbformat": 4,
 "nbformat_minor": 5
}
